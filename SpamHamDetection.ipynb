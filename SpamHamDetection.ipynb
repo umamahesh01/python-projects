{
 "cells": [
  {
   "cell_type": "code",
   "execution_count": 1,
   "id": "ec0f0821-b8af-4b39-8474-63bf2d14620d",
   "metadata": {},
   "outputs": [],
   "source": [
    "import numpy as np\n",
    "import pandas as pd\n",
    "import matplotlib.pyplot as plt\n",
    "import seaborn as sns\n",
    "from sklearn.model_selection import train_test_split\n",
    "from sklearn.linear_model import LogisticRegression\n",
    "from sklearn.feature_extraction.text import TfidfVectorizer"
   ]
  },
  {
   "cell_type": "code",
   "execution_count": 2,
   "id": "ccd14a1e-a682-4d0f-bfb2-04c6c00062d2",
   "metadata": {},
   "outputs": [],
   "source": [
    "raw_df = pd.read_csv('C://Users//mahesh//Downloads//mail_data.csv',na_values = 'Null')"
   ]
  },
  {
   "cell_type": "code",
   "execution_count": 3,
   "id": "2d7c455d-ed29-4022-bc37-e4e19f041f6a",
   "metadata": {},
   "outputs": [
    {
     "name": "stdout",
     "output_type": "stream",
     "text": [
      "<class 'pandas.core.frame.DataFrame'>\n",
      "RangeIndex: 5572 entries, 0 to 5571\n",
      "Data columns (total 2 columns):\n",
      " #   Column    Non-Null Count  Dtype \n",
      "---  ------    --------------  ----- \n",
      " 0   Category  5572 non-null   object\n",
      " 1   Message   5572 non-null   object\n",
      "dtypes: object(2)\n",
      "memory usage: 87.2+ KB\n"
     ]
    }
   ],
   "source": [
    "raw_df.info()"
   ]
  },
  {
   "cell_type": "code",
   "execution_count": 4,
   "id": "f9dacd25-e39c-4f50-91e6-bdd0c02eba6d",
   "metadata": {},
   "outputs": [
    {
     "data": {
      "text/html": [
       "<div>\n",
       "<style scoped>\n",
       "    .dataframe tbody tr th:only-of-type {\n",
       "        vertical-align: middle;\n",
       "    }\n",
       "\n",
       "    .dataframe tbody tr th {\n",
       "        vertical-align: top;\n",
       "    }\n",
       "\n",
       "    .dataframe thead th {\n",
       "        text-align: right;\n",
       "    }\n",
       "</style>\n",
       "<table border=\"1\" class=\"dataframe\">\n",
       "  <thead>\n",
       "    <tr style=\"text-align: right;\">\n",
       "      <th></th>\n",
       "      <th>Category</th>\n",
       "      <th>Message</th>\n",
       "    </tr>\n",
       "  </thead>\n",
       "  <tbody>\n",
       "    <tr>\n",
       "      <th>count</th>\n",
       "      <td>5572</td>\n",
       "      <td>5572</td>\n",
       "    </tr>\n",
       "    <tr>\n",
       "      <th>unique</th>\n",
       "      <td>2</td>\n",
       "      <td>5157</td>\n",
       "    </tr>\n",
       "    <tr>\n",
       "      <th>top</th>\n",
       "      <td>ham</td>\n",
       "      <td>Sorry, I'll call later</td>\n",
       "    </tr>\n",
       "    <tr>\n",
       "      <th>freq</th>\n",
       "      <td>4825</td>\n",
       "      <td>30</td>\n",
       "    </tr>\n",
       "  </tbody>\n",
       "</table>\n",
       "</div>"
      ],
      "text/plain": [
       "       Category                 Message\n",
       "count      5572                    5572\n",
       "unique        2                    5157\n",
       "top         ham  Sorry, I'll call later\n",
       "freq       4825                      30"
      ]
     },
     "execution_count": 4,
     "metadata": {},
     "output_type": "execute_result"
    }
   ],
   "source": [
    "raw_df.describe()"
   ]
  },
  {
   "cell_type": "code",
   "execution_count": 5,
   "id": "ccb941d6-ed5d-491c-98da-12c7076ef374",
   "metadata": {},
   "outputs": [
    {
     "data": {
      "text/plain": [
       "(5572, 2)"
      ]
     },
     "execution_count": 5,
     "metadata": {},
     "output_type": "execute_result"
    }
   ],
   "source": [
    "raw_df.shape"
   ]
  },
  {
   "cell_type": "code",
   "execution_count": 6,
   "id": "17f677bb-c187-436b-b737-4464239b35c9",
   "metadata": {},
   "outputs": [
    {
     "data": {
      "text/html": [
       "<div>\n",
       "<style scoped>\n",
       "    .dataframe tbody tr th:only-of-type {\n",
       "        vertical-align: middle;\n",
       "    }\n",
       "\n",
       "    .dataframe tbody tr th {\n",
       "        vertical-align: top;\n",
       "    }\n",
       "\n",
       "    .dataframe thead th {\n",
       "        text-align: right;\n",
       "    }\n",
       "</style>\n",
       "<table border=\"1\" class=\"dataframe\">\n",
       "  <thead>\n",
       "    <tr style=\"text-align: right;\">\n",
       "      <th></th>\n",
       "      <th>Category</th>\n",
       "      <th>Message</th>\n",
       "    </tr>\n",
       "  </thead>\n",
       "  <tbody>\n",
       "    <tr>\n",
       "      <th>0</th>\n",
       "      <td>ham</td>\n",
       "      <td>Go until jurong point, crazy.. Available only ...</td>\n",
       "    </tr>\n",
       "    <tr>\n",
       "      <th>1</th>\n",
       "      <td>ham</td>\n",
       "      <td>Ok lar... Joking wif u oni...</td>\n",
       "    </tr>\n",
       "    <tr>\n",
       "      <th>2</th>\n",
       "      <td>spam</td>\n",
       "      <td>Free entry in 2 a wkly comp to win FA Cup fina...</td>\n",
       "    </tr>\n",
       "    <tr>\n",
       "      <th>3</th>\n",
       "      <td>ham</td>\n",
       "      <td>U dun say so early hor... U c already then say...</td>\n",
       "    </tr>\n",
       "    <tr>\n",
       "      <th>4</th>\n",
       "      <td>ham</td>\n",
       "      <td>Nah I don't think he goes to usf, he lives aro...</td>\n",
       "    </tr>\n",
       "  </tbody>\n",
       "</table>\n",
       "</div>"
      ],
      "text/plain": [
       "  Category                                            Message\n",
       "0      ham  Go until jurong point, crazy.. Available only ...\n",
       "1      ham                      Ok lar... Joking wif u oni...\n",
       "2     spam  Free entry in 2 a wkly comp to win FA Cup fina...\n",
       "3      ham  U dun say so early hor... U c already then say...\n",
       "4      ham  Nah I don't think he goes to usf, he lives aro..."
      ]
     },
     "execution_count": 6,
     "metadata": {},
     "output_type": "execute_result"
    }
   ],
   "source": [
    "raw_df.head()"
   ]
  },
  {
   "cell_type": "markdown",
   "id": "118cab8e-7f25-4b2b-9a79-7a08769418cb",
   "metadata": {},
   "source": [
    "**Data Cleaning**"
   ]
  },
  {
   "cell_type": "code",
   "execution_count": 7,
   "id": "5befd808-fec9-4647-8f49-8d691f66daa1",
   "metadata": {},
   "outputs": [
    {
     "data": {
      "text/plain": [
       "Category    0\n",
       "Message     0\n",
       "dtype: int64"
      ]
     },
     "execution_count": 7,
     "metadata": {},
     "output_type": "execute_result"
    }
   ],
   "source": [
    "raw_df.isnull().sum()"
   ]
  },
  {
   "cell_type": "code",
   "execution_count": 8,
   "id": "480bcc6e-56f3-4d88-accb-de7e9c965cb7",
   "metadata": {},
   "outputs": [],
   "source": [
    "df = raw_df.where((pd.notnull(raw_df)),'')   # where is helpful when we use pd.notnull then it removes null values with ''"
   ]
  },
  {
   "cell_type": "code",
   "execution_count": 9,
   "id": "f6a6d011-cf1f-4789-ae7c-686ce7941bc3",
   "metadata": {},
   "outputs": [
    {
     "data": {
      "text/html": [
       "<div>\n",
       "<style scoped>\n",
       "    .dataframe tbody tr th:only-of-type {\n",
       "        vertical-align: middle;\n",
       "    }\n",
       "\n",
       "    .dataframe tbody tr th {\n",
       "        vertical-align: top;\n",
       "    }\n",
       "\n",
       "    .dataframe thead th {\n",
       "        text-align: right;\n",
       "    }\n",
       "</style>\n",
       "<table border=\"1\" class=\"dataframe\">\n",
       "  <thead>\n",
       "    <tr style=\"text-align: right;\">\n",
       "      <th></th>\n",
       "      <th>Category</th>\n",
       "      <th>Message</th>\n",
       "    </tr>\n",
       "  </thead>\n",
       "  <tbody>\n",
       "    <tr>\n",
       "      <th>0</th>\n",
       "      <td>ham</td>\n",
       "      <td>Go until jurong point, crazy.. Available only ...</td>\n",
       "    </tr>\n",
       "    <tr>\n",
       "      <th>1</th>\n",
       "      <td>ham</td>\n",
       "      <td>Ok lar... Joking wif u oni...</td>\n",
       "    </tr>\n",
       "    <tr>\n",
       "      <th>2</th>\n",
       "      <td>spam</td>\n",
       "      <td>Free entry in 2 a wkly comp to win FA Cup fina...</td>\n",
       "    </tr>\n",
       "    <tr>\n",
       "      <th>3</th>\n",
       "      <td>ham</td>\n",
       "      <td>U dun say so early hor... U c already then say...</td>\n",
       "    </tr>\n",
       "    <tr>\n",
       "      <th>4</th>\n",
       "      <td>ham</td>\n",
       "      <td>Nah I don't think he goes to usf, he lives aro...</td>\n",
       "    </tr>\n",
       "  </tbody>\n",
       "</table>\n",
       "</div>"
      ],
      "text/plain": [
       "  Category                                            Message\n",
       "0      ham  Go until jurong point, crazy.. Available only ...\n",
       "1      ham                      Ok lar... Joking wif u oni...\n",
       "2     spam  Free entry in 2 a wkly comp to win FA Cup fina...\n",
       "3      ham  U dun say so early hor... U c already then say...\n",
       "4      ham  Nah I don't think he goes to usf, he lives aro..."
      ]
     },
     "execution_count": 9,
     "metadata": {},
     "output_type": "execute_result"
    }
   ],
   "source": [
    "df.head()"
   ]
  },
  {
   "cell_type": "markdown",
   "id": "9847e3ba-4c0c-4cff-8cb3-de71f5a5adf2",
   "metadata": {},
   "source": [
    "**LabelEncoder**"
   ]
  },
  {
   "cell_type": "code",
   "execution_count": 10,
   "id": "3fa12c57-8981-424d-9f76-2486d1c2b57d",
   "metadata": {},
   "outputs": [],
   "source": [
    "from sklearn.preprocessing import LabelEncoder"
   ]
  },
  {
   "cell_type": "code",
   "execution_count": 11,
   "id": "0de5d711-04eb-48ab-88ca-dbf584a06873",
   "metadata": {},
   "outputs": [],
   "source": [
    "le = LabelEncoder()\n",
    "\n",
    "df['Category'] = le.fit_transform(df['Category'])"
   ]
  },
  {
   "cell_type": "code",
   "execution_count": 12,
   "id": "027ff83a-753b-4163-87aa-5a859472ee8a",
   "metadata": {},
   "outputs": [
    {
     "data": {
      "text/plain": [
       "0       0\n",
       "1       0\n",
       "2       1\n",
       "3       0\n",
       "4       0\n",
       "       ..\n",
       "5567    1\n",
       "5568    0\n",
       "5569    0\n",
       "5570    0\n",
       "5571    0\n",
       "Name: Category, Length: 5572, dtype: int32"
      ]
     },
     "execution_count": 12,
     "metadata": {},
     "output_type": "execute_result"
    }
   ],
   "source": [
    "df['Category']"
   ]
  },
  {
   "cell_type": "code",
   "execution_count": 13,
   "id": "72ced9f8-41bd-4713-afd3-f6b7df37c9dc",
   "metadata": {},
   "outputs": [],
   "source": [
    "x = df['Message']\n",
    "\n",
    "y = df['Category']"
   ]
  },
  {
   "cell_type": "code",
   "execution_count": 14,
   "id": "68b0e31d-dec0-45d7-a5a1-aa4e8a149198",
   "metadata": {},
   "outputs": [
    {
     "data": {
      "text/plain": [
       "0       Go until jurong point, crazy.. Available only ...\n",
       "1                           Ok lar... Joking wif u oni...\n",
       "2       Free entry in 2 a wkly comp to win FA Cup fina...\n",
       "3       U dun say so early hor... U c already then say...\n",
       "4       Nah I don't think he goes to usf, he lives aro...\n",
       "                              ...                        \n",
       "5567    This is the 2nd time we have tried 2 contact u...\n",
       "5568                 Will ü b going to esplanade fr home?\n",
       "5569    Pity, * was in mood for that. So...any other s...\n",
       "5570    The guy did some bitching but I acted like i'd...\n",
       "5571                           Rofl. Its true to its name\n",
       "Name: Message, Length: 5572, dtype: object"
      ]
     },
     "execution_count": 14,
     "metadata": {},
     "output_type": "execute_result"
    }
   ],
   "source": [
    "x"
   ]
  },
  {
   "cell_type": "code",
   "execution_count": 15,
   "id": "71c4b094-2579-46f1-b291-cce90eb99d35",
   "metadata": {},
   "outputs": [
    {
     "data": {
      "text/plain": [
       "0       0\n",
       "1       0\n",
       "2       1\n",
       "3       0\n",
       "4       0\n",
       "       ..\n",
       "5567    1\n",
       "5568    0\n",
       "5569    0\n",
       "5570    0\n",
       "5571    0\n",
       "Name: Category, Length: 5572, dtype: int32"
      ]
     },
     "execution_count": 15,
     "metadata": {},
     "output_type": "execute_result"
    }
   ],
   "source": [
    "y"
   ]
  },
  {
   "cell_type": "code",
   "execution_count": null,
   "id": "58d9ada2-e801-4fa2-be40-3b909e201aae",
   "metadata": {},
   "outputs": [],
   "source": []
  },
  {
   "cell_type": "markdown",
   "id": "3147ec5e-64a4-4448-bc15-5ea9190b9103",
   "metadata": {},
   "source": [
    "**train_test_split**"
   ]
  },
  {
   "cell_type": "code",
   "execution_count": 16,
   "id": "c10958e7-20b0-46d8-9e1e-ce64341b2f3f",
   "metadata": {},
   "outputs": [],
   "source": [
    "X_train, X_test, y_train, y_test = train_test_split(x,y,test_size = 0.3)"
   ]
  },
  {
   "cell_type": "code",
   "execution_count": 17,
   "id": "e9a9d749-6561-4831-a1b9-021b965c9ccd",
   "metadata": {},
   "outputs": [
    {
     "data": {
      "text/plain": [
       "4440                 i want to grasp your pretty booty :)\n",
       "41      Did I forget to tell you ? I want you , I need...\n",
       "3851    I to am looking forward to all the sex cuddlin...\n",
       "2106                              I fetch yun or u fetch?\n",
       "2570             Ultimately tor motive tui achieve korli.\n",
       "                              ...                        \n",
       "4290                   Okay, good, no problem, and thanx!\n",
       "3156                                                Ok...\n",
       "3836    I'm thinking that chennai forgot to come for a...\n",
       "591     For ur chance to win a £250 wkly shopping spre...\n",
       "2085               How are you. Wish you a great semester\n",
       "Name: Message, Length: 3900, dtype: object"
      ]
     },
     "execution_count": 17,
     "metadata": {},
     "output_type": "execute_result"
    }
   ],
   "source": [
    "X_train"
   ]
  },
  {
   "cell_type": "code",
   "execution_count": null,
   "id": "6ed93981-73dd-4c0f-b868-65dce81f2f79",
   "metadata": {},
   "outputs": [],
   "source": []
  },
  {
   "cell_type": "code",
   "execution_count": 18,
   "id": "9b723ee4-91dc-4eb1-a293-652e1ae5738f",
   "metadata": {},
   "outputs": [],
   "source": [
    "features = TfidfVectorizer(min_df = 1, stop_words = 'english', lowercase = True)\n",
    "\n",
    "\n",
    "X_train_features = features.fit_transform(X_train)\n",
    "X_test_features = features.transform(X_test)\n"
   ]
  },
  {
   "cell_type": "code",
   "execution_count": 19,
   "id": "e91170ad-05e0-4e85-8771-71890ffce180",
   "metadata": {},
   "outputs": [
    {
     "name": "stdout",
     "output_type": "stream",
     "text": [
      "  (0, 1281)\t0.5885938168820166\n",
      "  (0, 4865)\t0.46561829280598716\n",
      "  (0, 2910)\t0.5885938168820166\n",
      "  (0, 6619)\t0.3005232817286475\n",
      "  (1, 6926)\t0.35857315930617895\n",
      "  (1, 4094)\t0.35857315930617895\n",
      "  (1, 5818)\t0.3763678001172525\n",
      "  (1, 949)\t0.3763678001172525\n",
      "  (1, 5987)\t0.2655211868996353\n",
      "  (1, 3813)\t0.19631515539673947\n",
      "  (1, 1855)\t0.3213878114573099\n",
      "  (1, 4269)\t0.20089882891836458\n",
      "  (1, 6077)\t0.20786581696851364\n",
      "  (1, 2657)\t0.28793978300133355\n",
      "  (1, 2076)\t0.2093048634061129\n",
      "  (1, 6619)\t0.1921652643709315\n",
      "  (2, 5605)\t0.4969872567450317\n",
      "  (2, 1896)\t0.4969872567450317\n",
      "  (2, 5444)\t0.40371708880439355\n",
      "  (2, 2675)\t0.45681798184543027\n",
      "  (2, 3788)\t0.3665203636035377\n",
      "  (3, 6927)\t0.4244258293803631\n",
      "  (3, 2538)\t0.9054627078763602\n",
      "  (4, 3576)\t0.408248290463863\n",
      "  (4, 734)\t0.408248290463863\n",
      "  :\t:\n",
      "  (3896, 4438)\t1.0\n",
      "  (3897, 1585)\t0.47982236300233294\n",
      "  (3897, 2662)\t0.4330194506467287\n",
      "  (3897, 6151)\t0.47451829733373047\n",
      "  (3897, 1026)\t0.5145711931576671\n",
      "  (3897, 1718)\t0.3038314137679891\n",
      "  (3898, 119)\t0.2717430012409724\n",
      "  (3898, 607)\t0.2816603710227848\n",
      "  (3898, 317)\t0.2577652535959389\n",
      "  (3898, 1912)\t0.2524511605732639\n",
      "  (3898, 6777)\t0.24015537418379213\n",
      "  (3898, 5501)\t0.4479055327745611\n",
      "  (3898, 1545)\t0.20721567707187227\n",
      "  (3898, 1714)\t0.1813869668531562\n",
      "  (3898, 6850)\t0.17258430652869242\n",
      "  (3898, 6773)\t0.20721567707187227\n",
      "  (3898, 5774)\t0.24784788381412645\n",
      "  (3898, 5503)\t0.2162602567569462\n",
      "  (3898, 6741)\t0.18754707454022315\n",
      "  (3898, 6466)\t0.1337537863367721\n",
      "  (3898, 343)\t0.2311107944987182\n",
      "  (3898, 6374)\t0.30841237315940095\n",
      "  (3899, 5415)\t0.6845470067849455\n",
      "  (3899, 6759)\t0.5503536563298468\n",
      "  (3899, 2917)\t0.47802327188761495\n"
     ]
    }
   ],
   "source": [
    "print(X_train_features)"
   ]
  },
  {
   "cell_type": "code",
   "execution_count": 20,
   "id": "ba271bf4-3112-43dc-9569-2908435e85f6",
   "metadata": {},
   "outputs": [
    {
     "name": "stdout",
     "output_type": "stream",
     "text": [
      "  (0, 6691)\t0.2378963166710904\n",
      "  (0, 6107)\t0.1526579094856178\n",
      "  (0, 6087)\t0.27292074918076303\n",
      "  (0, 5103)\t0.27292074918076303\n",
      "  (0, 4961)\t0.27292074918076303\n",
      "  (0, 4869)\t0.28288110134583955\n",
      "  (0, 3757)\t0.26519489982382094\n",
      "  (0, 3131)\t0.28288110134583955\n",
      "  (0, 3069)\t0.3767198261329908\n",
      "  (0, 2693)\t0.144346572627006\n",
      "  (0, 577)\t0.28288110134583955\n",
      "  (0, 498)\t0.1988257162045253\n",
      "  (0, 300)\t0.28288110134583955\n",
      "  (0, 46)\t0.23488374119219882\n",
      "  (0, 1)\t0.220845413280455\n",
      "  (1, 4023)\t0.529111106073222\n",
      "  (1, 1369)\t0.8485525543123252\n",
      "  (2, 6606)\t0.578935887579241\n",
      "  (2, 4052)\t0.7318399836628194\n",
      "  (2, 1967)\t0.3595044872949999\n",
      "  (3, 4305)\t0.425057570447515\n",
      "  (3, 3588)\t0.5834608962361701\n",
      "  (3, 3489)\t0.2756288659899256\n",
      "  (3, 1801)\t0.6347662346105443\n",
      "  (4, 6872)\t0.4534105552827749\n",
      "  :\t:\n",
      "  (1666, 5975)\t0.3604787569486579\n",
      "  (1666, 5809)\t0.28179901933391455\n",
      "  (1666, 5406)\t0.2596851083357959\n",
      "  (1666, 3777)\t0.3313428584184347\n",
      "  (1666, 3167)\t0.3604787569486579\n",
      "  (1666, 3125)\t0.24393516282776517\n",
      "  (1666, 1637)\t0.20541959999087578\n",
      "  (1666, 1359)\t0.3604787569486579\n",
      "  (1666, 420)\t0.3078198473314881\n",
      "  (1666, 343)\t0.28179901933391455\n",
      "  (1667, 6797)\t1.0\n",
      "  (1668, 4438)\t1.0\n",
      "  (1669, 6792)\t0.44777481660462437\n",
      "  (1669, 4871)\t0.5621496449379247\n",
      "  (1669, 1637)\t0.4228809696051054\n",
      "  (1669, 1)\t0.5519575851971833\n",
      "  (1670, 6636)\t0.4099260806838863\n",
      "  (1670, 5344)\t0.3540424918155842\n",
      "  (1670, 2235)\t0.5848484873286014\n",
      "  (1670, 1513)\t0.4521428316021273\n",
      "  (1670, 1193)\t0.4001670014686582\n",
      "  (1671, 4912)\t0.5439203888788062\n",
      "  (1671, 3793)\t0.3715035106612094\n",
      "  (1671, 2705)\t0.6379237568975515\n",
      "  (1671, 2171)\t0.39898500286857713\n"
     ]
    }
   ],
   "source": [
    "print(X_test_features)"
   ]
  },
  {
   "cell_type": "code",
   "execution_count": null,
   "id": "a60014af-4ecd-4b55-a134-d96591735d60",
   "metadata": {},
   "outputs": [],
   "source": []
  },
  {
   "cell_type": "markdown",
   "id": "9bf7a668-c28d-4644-aafd-409692be1804",
   "metadata": {},
   "source": [
    "**Logistic Regression**"
   ]
  },
  {
   "cell_type": "code",
   "execution_count": 21,
   "id": "8f4fdf9f-0758-4412-a1c0-ab20fb168da6",
   "metadata": {},
   "outputs": [
    {
     "data": {
      "text/html": [
       "<style>#sk-container-id-1 {\n",
       "  /* Definition of color scheme common for light and dark mode */\n",
       "  --sklearn-color-text: black;\n",
       "  --sklearn-color-line: gray;\n",
       "  /* Definition of color scheme for unfitted estimators */\n",
       "  --sklearn-color-unfitted-level-0: #fff5e6;\n",
       "  --sklearn-color-unfitted-level-1: #f6e4d2;\n",
       "  --sklearn-color-unfitted-level-2: #ffe0b3;\n",
       "  --sklearn-color-unfitted-level-3: chocolate;\n",
       "  /* Definition of color scheme for fitted estimators */\n",
       "  --sklearn-color-fitted-level-0: #f0f8ff;\n",
       "  --sklearn-color-fitted-level-1: #d4ebff;\n",
       "  --sklearn-color-fitted-level-2: #b3dbfd;\n",
       "  --sklearn-color-fitted-level-3: cornflowerblue;\n",
       "\n",
       "  /* Specific color for light theme */\n",
       "  --sklearn-color-text-on-default-background: var(--sg-text-color, var(--theme-code-foreground, var(--jp-content-font-color1, black)));\n",
       "  --sklearn-color-background: var(--sg-background-color, var(--theme-background, var(--jp-layout-color0, white)));\n",
       "  --sklearn-color-border-box: var(--sg-text-color, var(--theme-code-foreground, var(--jp-content-font-color1, black)));\n",
       "  --sklearn-color-icon: #696969;\n",
       "\n",
       "  @media (prefers-color-scheme: dark) {\n",
       "    /* Redefinition of color scheme for dark theme */\n",
       "    --sklearn-color-text-on-default-background: var(--sg-text-color, var(--theme-code-foreground, var(--jp-content-font-color1, white)));\n",
       "    --sklearn-color-background: var(--sg-background-color, var(--theme-background, var(--jp-layout-color0, #111)));\n",
       "    --sklearn-color-border-box: var(--sg-text-color, var(--theme-code-foreground, var(--jp-content-font-color1, white)));\n",
       "    --sklearn-color-icon: #878787;\n",
       "  }\n",
       "}\n",
       "\n",
       "#sk-container-id-1 {\n",
       "  color: var(--sklearn-color-text);\n",
       "}\n",
       "\n",
       "#sk-container-id-1 pre {\n",
       "  padding: 0;\n",
       "}\n",
       "\n",
       "#sk-container-id-1 input.sk-hidden--visually {\n",
       "  border: 0;\n",
       "  clip: rect(1px 1px 1px 1px);\n",
       "  clip: rect(1px, 1px, 1px, 1px);\n",
       "  height: 1px;\n",
       "  margin: -1px;\n",
       "  overflow: hidden;\n",
       "  padding: 0;\n",
       "  position: absolute;\n",
       "  width: 1px;\n",
       "}\n",
       "\n",
       "#sk-container-id-1 div.sk-dashed-wrapped {\n",
       "  border: 1px dashed var(--sklearn-color-line);\n",
       "  margin: 0 0.4em 0.5em 0.4em;\n",
       "  box-sizing: border-box;\n",
       "  padding-bottom: 0.4em;\n",
       "  background-color: var(--sklearn-color-background);\n",
       "}\n",
       "\n",
       "#sk-container-id-1 div.sk-container {\n",
       "  /* jupyter's `normalize.less` sets `[hidden] { display: none; }`\n",
       "     but bootstrap.min.css set `[hidden] { display: none !important; }`\n",
       "     so we also need the `!important` here to be able to override the\n",
       "     default hidden behavior on the sphinx rendered scikit-learn.org.\n",
       "     See: https://github.com/scikit-learn/scikit-learn/issues/21755 */\n",
       "  display: inline-block !important;\n",
       "  position: relative;\n",
       "}\n",
       "\n",
       "#sk-container-id-1 div.sk-text-repr-fallback {\n",
       "  display: none;\n",
       "}\n",
       "\n",
       "div.sk-parallel-item,\n",
       "div.sk-serial,\n",
       "div.sk-item {\n",
       "  /* draw centered vertical line to link estimators */\n",
       "  background-image: linear-gradient(var(--sklearn-color-text-on-default-background), var(--sklearn-color-text-on-default-background));\n",
       "  background-size: 2px 100%;\n",
       "  background-repeat: no-repeat;\n",
       "  background-position: center center;\n",
       "}\n",
       "\n",
       "/* Parallel-specific style estimator block */\n",
       "\n",
       "#sk-container-id-1 div.sk-parallel-item::after {\n",
       "  content: \"\";\n",
       "  width: 100%;\n",
       "  border-bottom: 2px solid var(--sklearn-color-text-on-default-background);\n",
       "  flex-grow: 1;\n",
       "}\n",
       "\n",
       "#sk-container-id-1 div.sk-parallel {\n",
       "  display: flex;\n",
       "  align-items: stretch;\n",
       "  justify-content: center;\n",
       "  background-color: var(--sklearn-color-background);\n",
       "  position: relative;\n",
       "}\n",
       "\n",
       "#sk-container-id-1 div.sk-parallel-item {\n",
       "  display: flex;\n",
       "  flex-direction: column;\n",
       "}\n",
       "\n",
       "#sk-container-id-1 div.sk-parallel-item:first-child::after {\n",
       "  align-self: flex-end;\n",
       "  width: 50%;\n",
       "}\n",
       "\n",
       "#sk-container-id-1 div.sk-parallel-item:last-child::after {\n",
       "  align-self: flex-start;\n",
       "  width: 50%;\n",
       "}\n",
       "\n",
       "#sk-container-id-1 div.sk-parallel-item:only-child::after {\n",
       "  width: 0;\n",
       "}\n",
       "\n",
       "/* Serial-specific style estimator block */\n",
       "\n",
       "#sk-container-id-1 div.sk-serial {\n",
       "  display: flex;\n",
       "  flex-direction: column;\n",
       "  align-items: center;\n",
       "  background-color: var(--sklearn-color-background);\n",
       "  padding-right: 1em;\n",
       "  padding-left: 1em;\n",
       "}\n",
       "\n",
       "\n",
       "/* Toggleable style: style used for estimator/Pipeline/ColumnTransformer box that is\n",
       "clickable and can be expanded/collapsed.\n",
       "- Pipeline and ColumnTransformer use this feature and define the default style\n",
       "- Estimators will overwrite some part of the style using the `sk-estimator` class\n",
       "*/\n",
       "\n",
       "/* Pipeline and ColumnTransformer style (default) */\n",
       "\n",
       "#sk-container-id-1 div.sk-toggleable {\n",
       "  /* Default theme specific background. It is overwritten whether we have a\n",
       "  specific estimator or a Pipeline/ColumnTransformer */\n",
       "  background-color: var(--sklearn-color-background);\n",
       "}\n",
       "\n",
       "/* Toggleable label */\n",
       "#sk-container-id-1 label.sk-toggleable__label {\n",
       "  cursor: pointer;\n",
       "  display: block;\n",
       "  width: 100%;\n",
       "  margin-bottom: 0;\n",
       "  padding: 0.5em;\n",
       "  box-sizing: border-box;\n",
       "  text-align: center;\n",
       "}\n",
       "\n",
       "#sk-container-id-1 label.sk-toggleable__label-arrow:before {\n",
       "  /* Arrow on the left of the label */\n",
       "  content: \"▸\";\n",
       "  float: left;\n",
       "  margin-right: 0.25em;\n",
       "  color: var(--sklearn-color-icon);\n",
       "}\n",
       "\n",
       "#sk-container-id-1 label.sk-toggleable__label-arrow:hover:before {\n",
       "  color: var(--sklearn-color-text);\n",
       "}\n",
       "\n",
       "/* Toggleable content - dropdown */\n",
       "\n",
       "#sk-container-id-1 div.sk-toggleable__content {\n",
       "  max-height: 0;\n",
       "  max-width: 0;\n",
       "  overflow: hidden;\n",
       "  text-align: left;\n",
       "  /* unfitted */\n",
       "  background-color: var(--sklearn-color-unfitted-level-0);\n",
       "}\n",
       "\n",
       "#sk-container-id-1 div.sk-toggleable__content.fitted {\n",
       "  /* fitted */\n",
       "  background-color: var(--sklearn-color-fitted-level-0);\n",
       "}\n",
       "\n",
       "#sk-container-id-1 div.sk-toggleable__content pre {\n",
       "  margin: 0.2em;\n",
       "  border-radius: 0.25em;\n",
       "  color: var(--sklearn-color-text);\n",
       "  /* unfitted */\n",
       "  background-color: var(--sklearn-color-unfitted-level-0);\n",
       "}\n",
       "\n",
       "#sk-container-id-1 div.sk-toggleable__content.fitted pre {\n",
       "  /* unfitted */\n",
       "  background-color: var(--sklearn-color-fitted-level-0);\n",
       "}\n",
       "\n",
       "#sk-container-id-1 input.sk-toggleable__control:checked~div.sk-toggleable__content {\n",
       "  /* Expand drop-down */\n",
       "  max-height: 200px;\n",
       "  max-width: 100%;\n",
       "  overflow: auto;\n",
       "}\n",
       "\n",
       "#sk-container-id-1 input.sk-toggleable__control:checked~label.sk-toggleable__label-arrow:before {\n",
       "  content: \"▾\";\n",
       "}\n",
       "\n",
       "/* Pipeline/ColumnTransformer-specific style */\n",
       "\n",
       "#sk-container-id-1 div.sk-label input.sk-toggleable__control:checked~label.sk-toggleable__label {\n",
       "  color: var(--sklearn-color-text);\n",
       "  background-color: var(--sklearn-color-unfitted-level-2);\n",
       "}\n",
       "\n",
       "#sk-container-id-1 div.sk-label.fitted input.sk-toggleable__control:checked~label.sk-toggleable__label {\n",
       "  background-color: var(--sklearn-color-fitted-level-2);\n",
       "}\n",
       "\n",
       "/* Estimator-specific style */\n",
       "\n",
       "/* Colorize estimator box */\n",
       "#sk-container-id-1 div.sk-estimator input.sk-toggleable__control:checked~label.sk-toggleable__label {\n",
       "  /* unfitted */\n",
       "  background-color: var(--sklearn-color-unfitted-level-2);\n",
       "}\n",
       "\n",
       "#sk-container-id-1 div.sk-estimator.fitted input.sk-toggleable__control:checked~label.sk-toggleable__label {\n",
       "  /* fitted */\n",
       "  background-color: var(--sklearn-color-fitted-level-2);\n",
       "}\n",
       "\n",
       "#sk-container-id-1 div.sk-label label.sk-toggleable__label,\n",
       "#sk-container-id-1 div.sk-label label {\n",
       "  /* The background is the default theme color */\n",
       "  color: var(--sklearn-color-text-on-default-background);\n",
       "}\n",
       "\n",
       "/* On hover, darken the color of the background */\n",
       "#sk-container-id-1 div.sk-label:hover label.sk-toggleable__label {\n",
       "  color: var(--sklearn-color-text);\n",
       "  background-color: var(--sklearn-color-unfitted-level-2);\n",
       "}\n",
       "\n",
       "/* Label box, darken color on hover, fitted */\n",
       "#sk-container-id-1 div.sk-label.fitted:hover label.sk-toggleable__label.fitted {\n",
       "  color: var(--sklearn-color-text);\n",
       "  background-color: var(--sklearn-color-fitted-level-2);\n",
       "}\n",
       "\n",
       "/* Estimator label */\n",
       "\n",
       "#sk-container-id-1 div.sk-label label {\n",
       "  font-family: monospace;\n",
       "  font-weight: bold;\n",
       "  display: inline-block;\n",
       "  line-height: 1.2em;\n",
       "}\n",
       "\n",
       "#sk-container-id-1 div.sk-label-container {\n",
       "  text-align: center;\n",
       "}\n",
       "\n",
       "/* Estimator-specific */\n",
       "#sk-container-id-1 div.sk-estimator {\n",
       "  font-family: monospace;\n",
       "  border: 1px dotted var(--sklearn-color-border-box);\n",
       "  border-radius: 0.25em;\n",
       "  box-sizing: border-box;\n",
       "  margin-bottom: 0.5em;\n",
       "  /* unfitted */\n",
       "  background-color: var(--sklearn-color-unfitted-level-0);\n",
       "}\n",
       "\n",
       "#sk-container-id-1 div.sk-estimator.fitted {\n",
       "  /* fitted */\n",
       "  background-color: var(--sklearn-color-fitted-level-0);\n",
       "}\n",
       "\n",
       "/* on hover */\n",
       "#sk-container-id-1 div.sk-estimator:hover {\n",
       "  /* unfitted */\n",
       "  background-color: var(--sklearn-color-unfitted-level-2);\n",
       "}\n",
       "\n",
       "#sk-container-id-1 div.sk-estimator.fitted:hover {\n",
       "  /* fitted */\n",
       "  background-color: var(--sklearn-color-fitted-level-2);\n",
       "}\n",
       "\n",
       "/* Specification for estimator info (e.g. \"i\" and \"?\") */\n",
       "\n",
       "/* Common style for \"i\" and \"?\" */\n",
       "\n",
       ".sk-estimator-doc-link,\n",
       "a:link.sk-estimator-doc-link,\n",
       "a:visited.sk-estimator-doc-link {\n",
       "  float: right;\n",
       "  font-size: smaller;\n",
       "  line-height: 1em;\n",
       "  font-family: monospace;\n",
       "  background-color: var(--sklearn-color-background);\n",
       "  border-radius: 1em;\n",
       "  height: 1em;\n",
       "  width: 1em;\n",
       "  text-decoration: none !important;\n",
       "  margin-left: 1ex;\n",
       "  /* unfitted */\n",
       "  border: var(--sklearn-color-unfitted-level-1) 1pt solid;\n",
       "  color: var(--sklearn-color-unfitted-level-1);\n",
       "}\n",
       "\n",
       ".sk-estimator-doc-link.fitted,\n",
       "a:link.sk-estimator-doc-link.fitted,\n",
       "a:visited.sk-estimator-doc-link.fitted {\n",
       "  /* fitted */\n",
       "  border: var(--sklearn-color-fitted-level-1) 1pt solid;\n",
       "  color: var(--sklearn-color-fitted-level-1);\n",
       "}\n",
       "\n",
       "/* On hover */\n",
       "div.sk-estimator:hover .sk-estimator-doc-link:hover,\n",
       ".sk-estimator-doc-link:hover,\n",
       "div.sk-label-container:hover .sk-estimator-doc-link:hover,\n",
       ".sk-estimator-doc-link:hover {\n",
       "  /* unfitted */\n",
       "  background-color: var(--sklearn-color-unfitted-level-3);\n",
       "  color: var(--sklearn-color-background);\n",
       "  text-decoration: none;\n",
       "}\n",
       "\n",
       "div.sk-estimator.fitted:hover .sk-estimator-doc-link.fitted:hover,\n",
       ".sk-estimator-doc-link.fitted:hover,\n",
       "div.sk-label-container:hover .sk-estimator-doc-link.fitted:hover,\n",
       ".sk-estimator-doc-link.fitted:hover {\n",
       "  /* fitted */\n",
       "  background-color: var(--sklearn-color-fitted-level-3);\n",
       "  color: var(--sklearn-color-background);\n",
       "  text-decoration: none;\n",
       "}\n",
       "\n",
       "/* Span, style for the box shown on hovering the info icon */\n",
       ".sk-estimator-doc-link span {\n",
       "  display: none;\n",
       "  z-index: 9999;\n",
       "  position: relative;\n",
       "  font-weight: normal;\n",
       "  right: .2ex;\n",
       "  padding: .5ex;\n",
       "  margin: .5ex;\n",
       "  width: min-content;\n",
       "  min-width: 20ex;\n",
       "  max-width: 50ex;\n",
       "  color: var(--sklearn-color-text);\n",
       "  box-shadow: 2pt 2pt 4pt #999;\n",
       "  /* unfitted */\n",
       "  background: var(--sklearn-color-unfitted-level-0);\n",
       "  border: .5pt solid var(--sklearn-color-unfitted-level-3);\n",
       "}\n",
       "\n",
       ".sk-estimator-doc-link.fitted span {\n",
       "  /* fitted */\n",
       "  background: var(--sklearn-color-fitted-level-0);\n",
       "  border: var(--sklearn-color-fitted-level-3);\n",
       "}\n",
       "\n",
       ".sk-estimator-doc-link:hover span {\n",
       "  display: block;\n",
       "}\n",
       "\n",
       "/* \"?\"-specific style due to the `<a>` HTML tag */\n",
       "\n",
       "#sk-container-id-1 a.estimator_doc_link {\n",
       "  float: right;\n",
       "  font-size: 1rem;\n",
       "  line-height: 1em;\n",
       "  font-family: monospace;\n",
       "  background-color: var(--sklearn-color-background);\n",
       "  border-radius: 1rem;\n",
       "  height: 1rem;\n",
       "  width: 1rem;\n",
       "  text-decoration: none;\n",
       "  /* unfitted */\n",
       "  color: var(--sklearn-color-unfitted-level-1);\n",
       "  border: var(--sklearn-color-unfitted-level-1) 1pt solid;\n",
       "}\n",
       "\n",
       "#sk-container-id-1 a.estimator_doc_link.fitted {\n",
       "  /* fitted */\n",
       "  border: var(--sklearn-color-fitted-level-1) 1pt solid;\n",
       "  color: var(--sklearn-color-fitted-level-1);\n",
       "}\n",
       "\n",
       "/* On hover */\n",
       "#sk-container-id-1 a.estimator_doc_link:hover {\n",
       "  /* unfitted */\n",
       "  background-color: var(--sklearn-color-unfitted-level-3);\n",
       "  color: var(--sklearn-color-background);\n",
       "  text-decoration: none;\n",
       "}\n",
       "\n",
       "#sk-container-id-1 a.estimator_doc_link.fitted:hover {\n",
       "  /* fitted */\n",
       "  background-color: var(--sklearn-color-fitted-level-3);\n",
       "}\n",
       "</style><div id=\"sk-container-id-1\" class=\"sk-top-container\"><div class=\"sk-text-repr-fallback\"><pre>LogisticRegression()</pre><b>In a Jupyter environment, please rerun this cell to show the HTML representation or trust the notebook. <br />On GitHub, the HTML representation is unable to render, please try loading this page with nbviewer.org.</b></div><div class=\"sk-container\" hidden><div class=\"sk-item\"><div class=\"sk-estimator fitted sk-toggleable\"><input class=\"sk-toggleable__control sk-hidden--visually\" id=\"sk-estimator-id-1\" type=\"checkbox\" checked><label for=\"sk-estimator-id-1\" class=\"sk-toggleable__label fitted sk-toggleable__label-arrow fitted\">&nbsp;&nbsp;LogisticRegression<a class=\"sk-estimator-doc-link fitted\" rel=\"noreferrer\" target=\"_blank\" href=\"https://scikit-learn.org/1.4/modules/generated/sklearn.linear_model.LogisticRegression.html\">?<span>Documentation for LogisticRegression</span></a><span class=\"sk-estimator-doc-link fitted\">i<span>Fitted</span></span></label><div class=\"sk-toggleable__content fitted\"><pre>LogisticRegression()</pre></div> </div></div></div></div>"
      ],
      "text/plain": [
       "LogisticRegression()"
      ]
     },
     "execution_count": 21,
     "metadata": {},
     "output_type": "execute_result"
    }
   ],
   "source": [
    "lr = LogisticRegression()\n",
    "\n",
    "lr.fit(X_train_features,y_train)"
   ]
  },
  {
   "cell_type": "code",
   "execution_count": 22,
   "id": "b1a49280-0ef8-46fa-b7c4-ae311d2a3646",
   "metadata": {},
   "outputs": [],
   "source": [
    "from sklearn.metrics import accuracy_score "
   ]
  },
  {
   "cell_type": "code",
   "execution_count": 23,
   "id": "8d4d8720-27a9-4edb-a415-d6d7db7103d9",
   "metadata": {},
   "outputs": [],
   "source": [
    "X_train_features_pred = lr.predict(X_train_features)\n",
    "X_train_features_acc = accuracy_score(y_train,X_train_features_pred)"
   ]
  },
  {
   "cell_type": "code",
   "execution_count": 43,
   "id": "bf53927b-7130-418c-a9b5-c30399523df6",
   "metadata": {},
   "outputs": [
    {
     "name": "stdout",
     "output_type": "stream",
     "text": [
      "Accuracy for Training data is :  96.6 %\n"
     ]
    }
   ],
   "source": [
    "print('Accuracy for Training data is : ',round((X_train_features_acc),3)*100,'%') "
   ]
  },
  {
   "cell_type": "code",
   "execution_count": null,
   "id": "05e07d49-06c8-4363-a860-7a7e5eebdb63",
   "metadata": {},
   "outputs": [],
   "source": []
  },
  {
   "cell_type": "code",
   "execution_count": 44,
   "id": "141fdf4e-1d65-42db-9c0f-d8359943fd28",
   "metadata": {},
   "outputs": [],
   "source": [
    "X_test_features_pred = lr.predict(X_test_features)\n",
    "X_test_features_acc = accuracy_score(y_test,X_test_features_pred)"
   ]
  },
  {
   "cell_type": "code",
   "execution_count": 46,
   "id": "2334a20f-7af2-4ae5-a4ae-f9ccae26a0b6",
   "metadata": {},
   "outputs": [
    {
     "name": "stdout",
     "output_type": "stream",
     "text": [
      "Accuracy for Test data is :  96.0 %\n"
     ]
    }
   ],
   "source": [
    "print('Accuracy for Test data is : ',round((X_test_features_acc),3)*100,'%') "
   ]
  },
  {
   "cell_type": "code",
   "execution_count": null,
   "id": "64941e61-83a0-4a17-96cc-a58e14602ecf",
   "metadata": {},
   "outputs": [],
   "source": []
  },
  {
   "cell_type": "markdown",
   "id": "a98ec351-96e6-4483-bdb8-49cfac83eade",
   "metadata": {},
   "source": [
    "**Prediction**"
   ]
  },
  {
   "cell_type": "code",
   "execution_count": 48,
   "id": "935bd33d-8fe4-4229-8fb2-1e1fbe29a3a5",
   "metadata": {},
   "outputs": [
    {
     "name": "stdout",
     "output_type": "stream",
     "text": [
      "it is a Spam Mail\n"
     ]
    }
   ],
   "source": [
    "new_input_raw = [\"Congratulations! You have won a $1,000 gift card. Click the link to claim your prize: \"]\n",
    "\n",
    "\n",
    "\n",
    "new_input = features.transform(new_input_raw)\n",
    "\n",
    "new_input_pred = lr.predict(new_input)\n",
    "new_input_pred\n",
    "\n",
    "\n",
    "if new_input_pred[0] == 1 :\n",
    "    print('it is a Spam Mail')\n",
    "else :\n",
    "    print('it is Not a Spam Mail')"
   ]
  },
  {
   "cell_type": "code",
   "execution_count": null,
   "id": "1206881e-361a-42cb-8ce7-2da9968d1c1d",
   "metadata": {},
   "outputs": [],
   "source": []
  },
  {
   "cell_type": "code",
   "execution_count": 49,
   "id": "c9e71115-2db5-46b6-95f6-6c8d9f46ecc4",
   "metadata": {},
   "outputs": [],
   "source": [
    "\n",
    "\n",
    "def spam_ham_pred(user_input_raw) :\n",
    "\n",
    "    #user_input_raw_list = user_input_raw.to_list()\n",
    "    new_input = features.transform(user_input_raw)\n",
    "    new_input_pred = lr.predict(new_input)\n",
    "    \n",
    "    \n",
    "\n",
    "    if new_input_pred[0] == 1 :\n",
    "        print('it is a Spam Mail')\n",
    "    else :\n",
    "        print('it is Not a Spam Mail')\n"
   ]
  },
  {
   "cell_type": "code",
   "execution_count": 50,
   "id": "17fdbb8e-5715-4ca7-b4aa-ece48346a4c9",
   "metadata": {},
   "outputs": [
    {
     "name": "stdout",
     "output_type": "stream",
     "text": [
      "it is Not a Spam Mail\n"
     ]
    }
   ],
   "source": [
    "spam_ham_pred([\"Hi, are we still on for the meeting at 3 PM today? Let me know.\"])"
   ]
  },
  {
   "cell_type": "code",
   "execution_count": 52,
   "id": "d0868421-e90a-42c2-896d-1fba9e7bc146",
   "metadata": {},
   "outputs": [
    {
     "name": "stdout",
     "output_type": "stream",
     "text": [
      "it is a Spam Mail\n"
     ]
    }
   ],
   "source": [
    "spam_ham_pred([\"Congratulations! You have won a $1,000 gift card. Click the link to claim your prize: \"])"
   ]
  },
  {
   "cell_type": "code",
   "execution_count": 53,
   "id": "45fa5661-e937-40b2-b955-54818fb9058f",
   "metadata": {},
   "outputs": [
    {
     "name": "stdout",
     "output_type": "stream",
     "text": [
      "it is Not a Spam Mail\n"
     ]
    }
   ],
   "source": [
    "spam_ham_pred([\"Please review the attached document and share your feedback.\"])"
   ]
  },
  {
   "cell_type": "code",
   "execution_count": 54,
   "id": "be0c84af-4f9f-4261-a893-6a6083e9475d",
   "metadata": {},
   "outputs": [
    {
     "name": "stdout",
     "output_type": "stream",
     "text": [
      "it is Not a Spam Mail\n"
     ]
    }
   ],
   "source": [
    "spam_ham_pred([\"Can you send me the report by end of the day? Thanks!\"])"
   ]
  },
  {
   "cell_type": "code",
   "execution_count": 55,
   "id": "07f39619-ec47-43d8-87b5-4d98a42252bf",
   "metadata": {},
   "outputs": [
    {
     "name": "stdout",
     "output_type": "stream",
     "text": [
      "it is Not a Spam Mail\n"
     ]
    }
   ],
   "source": [
    "spam_ham_pred([\"Reminder: Your package will be delivered today between 4 PM and 6 PM.\"])"
   ]
  },
  {
   "cell_type": "code",
   "execution_count": 57,
   "id": "377b51a2-253d-45f5-8b63-a23382dea767",
   "metadata": {},
   "outputs": [
    {
     "name": "stdout",
     "output_type": "stream",
     "text": [
      "it is a Spam Mail\n"
     ]
    }
   ],
   "source": [
    "spam_ham_pred([\"Congratulations! You've been selected to receive a free iPhone. Click here to claim\"])"
   ]
  },
  {
   "cell_type": "code",
   "execution_count": 150,
   "id": "4fc78859-e8ce-4f88-9115-39c2b2dc38d5",
   "metadata": {},
   "outputs": [
    {
     "name": "stdout",
     "output_type": "stream",
     "text": [
      "it is Not a Spam Mail\n"
     ]
    }
   ],
   "source": [
    "new_input_raw = [\"Exclusive deal! Buy 1, get 3 free. Offer expires tonight!\"]\n",
    "\n",
    "\n",
    "\n",
    "new_input = features.transform(new_input_raw)\n",
    "\n",
    "new_input_pred = lr.predict(new_input)\n",
    "new_input_pred\n",
    "\n",
    "\n",
    "if new_input_pred[0] == 1 :\n",
    "    print('it is a Spam Mail')\n",
    "else :\n",
    "    print('it is Not a Spam Mail')"
   ]
  },
  {
   "cell_type": "code",
   "execution_count": null,
   "id": "aca8687d-7071-42db-995c-829a2a4dde31",
   "metadata": {},
   "outputs": [],
   "source": []
  },
  {
   "cell_type": "code",
   "execution_count": 59,
   "id": "ee3ac480-338a-420e-8e13-550274ebe87b",
   "metadata": {},
   "outputs": [],
   "source": [
    "from sklearn.metrics import f1_score,r2_score,precision_score,recall_score,classification_report,confusion_matrix"
   ]
  },
  {
   "cell_type": "code",
   "execution_count": 62,
   "id": "573cdfab-8549-4cab-9536-fd5e8c6958f9",
   "metadata": {},
   "outputs": [
    {
     "name": "stdout",
     "output_type": "stream",
     "text": [
      "accuracy_score : 0.9599282296650717\n",
      "f1_score : 0.8329177057356608\n",
      "r2_score : 0.6658862407430053\n",
      "precision_score : 0.9940476190476191\n",
      "recall_score : 0.7167381974248928\n",
      "classification_report :               precision    recall  f1-score   support\n",
      "\n",
      "           0       0.96      1.00      0.98      1439\n",
      "           1       0.99      0.72      0.83       233\n",
      "\n",
      "    accuracy                           0.96      1672\n",
      "   macro avg       0.98      0.86      0.91      1672\n",
      "weighted avg       0.96      0.96      0.96      1672\n",
      "\n",
      "confusion_matrix :\n",
      "[[1438    1]\n",
      " [  66  167]]\n"
     ]
    }
   ],
   "source": [
    "print('accuracy_score :',accuracy_score(y_test,X_test_features_pred))\n",
    "print('f1_score :',f1_score(y_test,X_test_features_pred))\n",
    "print('r2_score :',r2_score(y_test,X_test_features_pred))\n",
    "print('precision_score :',precision_score(y_test,X_test_features_pred))\n",
    "print('recall_score :',recall_score(y_test,X_test_features_pred))\n",
    "print('classification_report :',classification_report(y_test,X_test_features_pred))\n",
    "print('confusion_matrix :')\n",
    "print(confusion_matrix(y_test,X_test_features_pred))"
   ]
  },
  {
   "cell_type": "code",
   "execution_count": null,
   "id": "93548056-8dbd-4592-8f4d-7554e0285a14",
   "metadata": {},
   "outputs": [],
   "source": []
  }
 ],
 "metadata": {
  "kernelspec": {
   "display_name": "Python 3 (ipykernel)",
   "language": "python",
   "name": "python3"
  },
  "language_info": {
   "codemirror_mode": {
    "name": "ipython",
    "version": 3
   },
   "file_extension": ".py",
   "mimetype": "text/x-python",
   "name": "python",
   "nbconvert_exporter": "python",
   "pygments_lexer": "ipython3",
   "version": "3.12.4"
  }
 },
 "nbformat": 4,
 "nbformat_minor": 5
}
